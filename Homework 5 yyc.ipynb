{
 "cells": [
  {
   "cell_type": "markdown",
   "id": "87e4530a",
   "metadata": {},
   "source": [
    "#  Assignment 5"
   ]
  },
  {
   "cell_type": "code",
   "execution_count": 1,
   "id": "3ae9bc4e",
   "metadata": {},
   "outputs": [],
   "source": [
    "import numpy as np\n",
    "import matplotlib.pyplot as plt\n",
    "import seaborn as sns"
   ]
  },
  {
   "cell_type": "markdown",
   "id": "ba60c305",
   "metadata": {},
   "source": [
    "# 2. We will now derive the probability that a given observation is part of a bootstrap sample. Suppose that we obtain a bootstrap sample from a set of n observations.\n",
    "\n",
    "##    (a) What is the probability that the first bootstrap observation is not the jth observation from the original sample? Justify your answer.\n",
    "> This is 1 - probability that it is the $j$th = $1 - 1/n$.\n",
    "##    (b) What is the probability that the second bootstrap observation is not the jth observation from the original sample?\n",
    "> Each bootstrap observation is a random sample, this probability is the same ($1 - 1/n$).\n",
    "##    (c) Argue that the probability that the jth observation is not in the bootstrap sample is (1 − 1/n)n.\n",
    ">For the $j$th observation to not be in the sample, it would have to _not_ be picked for each of $n$ positions, so not picked for $1, 2, ..., n$, thus the probability is $(1 - 1/n)^n$ \n",
    "##    (d) When n = 5, what is the probability that the jth observation is in the bootstrap sample?\n",
    "\n",
    "\n"
   ]
  },
  {
   "cell_type": "code",
   "execution_count": 2,
   "id": "8c1cb68d",
   "metadata": {},
   "outputs": [
    {
     "name": "stdout",
     "output_type": "stream",
     "text": [
      "0.6723199999999999\n"
     ]
    }
   ],
   "source": [
    "n = 5\n",
    "p =1 - (1 - 1 / n)**n \n",
    "print(p)"
   ]
  },
  {
   "cell_type": "markdown",
   "id": "58a513b1",
   "metadata": {},
   "source": [
    "##    (g) Create a plot that displays, for each integer value of $n$ from 1 to 100,000, the probability that the $j$th observation is in the bootstrap sample. Comment on what you observe."
   ]
  },
  {
   "cell_type": "code",
   "execution_count": 4,
   "id": "fac47df3",
   "metadata": {},
   "outputs": [
    {
     "data": {
      "text/plain": [
       "Text(0, 0.5, 'probability')"
      ]
     },
     "execution_count": 4,
     "metadata": {},
     "output_type": "execute_result"
    },
    {
     "data": {
      "image/png": "[encoded data removed]",
      "text/plain": [
       "<Figure size 640x480 with 1 Axes>"
      ]
     },
     "metadata": {},
     "output_type": "display_data"
    }
   ],
   "source": [
    "def prob_j_in_sample(n):\n",
    "    return 1 - (1 - 1/n)**n\n",
    "\n",
    "x = np.arange(1, 100000)\n",
    "y = np.array([prob_j_in_sample(n) for n in x])\n",
    "\n",
    "ax = sns.lineplot(x=x, y=prob_j_in_sample(x))\n",
    "plt.xlabel('n')\n",
    "plt.ylabel('probability')"
   ]
  },
  {
   "cell_type": "markdown",
   "id": "aa425de1",
   "metadata": {},
   "source": [
    "# 9. We will now consider the Boston housing data set, from the MASS library."
   ]
  },
  {
   "cell_type": "code",
   "execution_count": 6,
   "id": "275cd993",
   "metadata": {},
   "outputs": [
    {
     "data": {
      "text/html": [
       "<div>\n",
       "<style scoped>\n",
       "    .dataframe tbody tr th:only-of-type {\n",
       "        vertical-align: middle;\n",
       "    }\n",
       "\n",
       "    .dataframe tbody tr th {\n",
       "        vertical-align: top;\n",
       "    }\n",
       "\n",
       "    .dataframe thead th {\n",
       "        text-align: right;\n",
       "    }\n",
       "</style>\n",
       "<table border=\"1\" class=\"dataframe\">\n",
       "  <thead>\n",
       "    <tr style=\"text-align: right;\">\n",
       "      <th></th>\n",
       "      <th>crim</th>\n",
       "      <th>zn</th>\n",
       "      <th>indus</th>\n",
       "      <th>chas</th>\n",
       "      <th>nox</th>\n",
       "      <th>rm</th>\n",
       "      <th>age</th>\n",
       "      <th>dis</th>\n",
       "      <th>rad</th>\n",
       "      <th>tax</th>\n",
       "      <th>ptratio</th>\n",
       "      <th>b</th>\n",
       "      <th>lstat</th>\n",
       "      <th>medv</th>\n",
       "    </tr>\n",
       "  </thead>\n",
       "  <tbody>\n",
       "    <tr>\n",
       "      <th>0</th>\n",
       "      <td>0.00632</td>\n",
       "      <td>18.0</td>\n",
       "      <td>2.31</td>\n",
       "      <td>0</td>\n",
       "      <td>0.538</td>\n",
       "      <td>6.575</td>\n",
       "      <td>65.2</td>\n",
       "      <td>4.0900</td>\n",
       "      <td>1</td>\n",
       "      <td>296</td>\n",
       "      <td>15.3</td>\n",
       "      <td>396.90</td>\n",
       "      <td>4.98</td>\n",
       "      <td>24.0</td>\n",
       "    </tr>\n",
       "    <tr>\n",
       "      <th>1</th>\n",
       "      <td>0.02731</td>\n",
       "      <td>0.0</td>\n",
       "      <td>7.07</td>\n",
       "      <td>0</td>\n",
       "      <td>0.469</td>\n",
       "      <td>6.421</td>\n",
       "      <td>78.9</td>\n",
       "      <td>4.9671</td>\n",
       "      <td>2</td>\n",
       "      <td>242</td>\n",
       "      <td>17.8</td>\n",
       "      <td>396.90</td>\n",
       "      <td>9.14</td>\n",
       "      <td>21.6</td>\n",
       "    </tr>\n",
       "    <tr>\n",
       "      <th>2</th>\n",
       "      <td>0.02729</td>\n",
       "      <td>0.0</td>\n",
       "      <td>7.07</td>\n",
       "      <td>0</td>\n",
       "      <td>0.469</td>\n",
       "      <td>7.185</td>\n",
       "      <td>61.1</td>\n",
       "      <td>4.9671</td>\n",
       "      <td>2</td>\n",
       "      <td>242</td>\n",
       "      <td>17.8</td>\n",
       "      <td>392.83</td>\n",
       "      <td>4.03</td>\n",
       "      <td>34.7</td>\n",
       "    </tr>\n",
       "    <tr>\n",
       "      <th>3</th>\n",
       "      <td>0.03237</td>\n",
       "      <td>0.0</td>\n",
       "      <td>2.18</td>\n",
       "      <td>0</td>\n",
       "      <td>0.458</td>\n",
       "      <td>6.998</td>\n",
       "      <td>45.8</td>\n",
       "      <td>6.0622</td>\n",
       "      <td>3</td>\n",
       "      <td>222</td>\n",
       "      <td>18.7</td>\n",
       "      <td>394.63</td>\n",
       "      <td>2.94</td>\n",
       "      <td>33.4</td>\n",
       "    </tr>\n",
       "    <tr>\n",
       "      <th>4</th>\n",
       "      <td>0.06905</td>\n",
       "      <td>0.0</td>\n",
       "      <td>2.18</td>\n",
       "      <td>0</td>\n",
       "      <td>0.458</td>\n",
       "      <td>7.147</td>\n",
       "      <td>54.2</td>\n",
       "      <td>6.0622</td>\n",
       "      <td>3</td>\n",
       "      <td>222</td>\n",
       "      <td>18.7</td>\n",
       "      <td>396.90</td>\n",
       "      <td>5.33</td>\n",
       "      <td>36.2</td>\n",
       "    </tr>\n",
       "  </tbody>\n",
       "</table>\n",
       "</div>"
      ],
      "text/plain": [
       "      crim    zn  indus  chas    nox     rm   age     dis  rad  tax  ptratio  \\\n",
       "0  0.00632  18.0   2.31     0  0.538  6.575  65.2  4.0900    1  296     15.3   \n",
       "1  0.02731   0.0   7.07     0  0.469  6.421  78.9  4.9671    2  242     17.8   \n",
       "2  0.02729   0.0   7.07     0  0.469  7.185  61.1  4.9671    2  242     17.8   \n",
       "3  0.03237   0.0   2.18     0  0.458  6.998  45.8  6.0622    3  222     18.7   \n",
       "4  0.06905   0.0   2.18     0  0.458  7.147  54.2  6.0622    3  222     18.7   \n",
       "\n",
       "        b  lstat  medv  \n",
       "0  396.90   4.98  24.0  \n",
       "1  396.90   9.14  21.6  \n",
       "2  392.83   4.03  34.7  \n",
       "3  394.63   2.94  33.4  \n",
       "4  396.90   5.33  36.2  "
      ]
     },
     "execution_count": 6,
     "metadata": {},
     "output_type": "execute_result"
    }
   ],
   "source": [
    "import numpy as np\n",
    "import pandas as pd\n",
    "data_url = \"https://raw.githubusercontent.com/selva86/datasets/master/BostonHousing.csv\"\n",
    "raw_df = pd.read_csv(data_url)\n",
    "raw_df.head()\n"
   ]
  },
  {
   "cell_type": "markdown",
   "id": "1ef7ae6b",
   "metadata": {},
   "source": [
    "# (a) Based on this data set, provide an estimate for the population mean of medv. Call this estimate μˆ."
   ]
  },
  {
   "cell_type": "code",
   "execution_count": 7,
   "id": "899b1619",
   "metadata": {},
   "outputs": [
    {
     "data": {
      "text/plain": [
       "22.532806324110677"
      ]
     },
     "metadata": {},
     "output_type": "display_data"
    }
   ],
   "source": [
    "mu_hat = raw_df['medv'].mean()\n",
    "display(mu_hat)"
   ]
  },
  {
   "cell_type": "markdown",
   "id": "d690edd6",
   "metadata": {},
   "source": [
    "# (b) Provide an estimate of the standard error of μˆ. Interpret this result.\n",
    "Hint: We can compute the standard error of the sample mean by dividing the sample standard deviation by the square root of the number of observations.\n"
   ]
  },
  {
   "cell_type": "code",
   "execution_count": 11,
   "id": "461cc231",
   "metadata": {},
   "outputs": [
    {
     "data": {
      "text/plain": [
       "0.40886114749753505"
      ]
     },
     "metadata": {},
     "output_type": "display_data"
    }
   ],
   "source": [
    "from scipy.stats import sem\n",
    "sigma=raw_df['medv'].sem()\n",
    "display(sigma)"
   ]
  },
  {
   "cell_type": "markdown",
   "id": "04313cbc",
   "metadata": {},
   "source": [
    "# (c) Now estimate the standard error of μˆ using the bootstrap. How does this compare to your answer from (b)?"
   ]
  },
  {
   "cell_type": "code",
   "execution_count": 12,
   "id": "699533d1",
   "metadata": {},
   "outputs": [
    {
     "name": "stdout",
     "output_type": "stream",
     "text": [
      "Standard Error of the Sample Mean (Bootstrap): 0.012437060726617356\n"
     ]
    }
   ],
   "source": [
    "import numpy as np\n",
    "\n",
    "def bootstrap_standard_error(data, num_samples):\n",
    "    # Number of data points\n",
    "    n = len(data)\n",
    "    \n",
    "    # Generate bootstrap samples\n",
    "    bootstrap_samples = [np.random.choice(data, size=n, replace=True) for _ in range(num_samples)]\n",
    "    \n",
    "    # Calculate sample means for each bootstrap sample\n",
    "    sample_means = np.mean(bootstrap_samples, axis=1)\n",
    "    \n",
    "    # Compute the standard deviation of the sample means\n",
    "    std_sample_means = np.std(sample_means)\n",
    "    \n",
    "    # Calculate standard error of the sample mean\n",
    "    standard_error = std_sample_means / np.sqrt(num_samples)\n",
    "    \n",
    "    return standard_error\n",
    "\n",
    "# Example data (replace this with your actual data)\n",
    "data = raw_df['medv']\n",
    "# Number of bootstrap samples\n",
    "num_samples = 1000\n",
    "\n",
    "# Calculate standard error using bootstrap\n",
    "se_bootstrap = bootstrap_standard_error(data, num_samples)\n",
    "\n",
    "print(\"Standard Error of the Sample Mean (Bootstrap):\", se_bootstrap)\n"
   ]
  },
  {
   "cell_type": "markdown",
   "id": "c3bd0e94",
   "metadata": {},
   "source": [
    "> The bootstrap method gives a good estimate of the standard error, when compared to the same estimate derived analytically. The bootstrap approach is computationally more expensive, but has the advantage that no analytic derivation of the standard error for the statistic is required, making it much more general for application to other statistics."
   ]
  },
  {
   "cell_type": "markdown",
   "id": "ef0c7b97",
   "metadata": {},
   "source": [
    "# (d) Based on your bootstrap estimate from (c), provide a 95 % confidence interval for the mean of medv. Compare it to the results obtained using\n",
    "t.test(Boston$medv) \n",
    "Hint: You can approximate a 95% confidence interval using the formula [μˆ − 2SE(μˆ), μˆ + 2SE(μˆ)]."
   ]
  },
  {
   "cell_type": "code",
   "execution_count": 15,
   "id": "4ecf049e",
   "metadata": {},
   "outputs": [
    {
     "data": {
      "text/plain": [
       "mu        22.532806\n",
       "SE         0.408861\n",
       "[0.025    21.715084\n",
       "0.975]    23.350529\n",
       "dtype: float64"
      ]
     },
     "execution_count": 15,
     "metadata": {},
     "output_type": "execute_result"
    }
   ],
   "source": [
    "upper = mu_hat+2*sigma\n",
    "lower =mu_hat-2*sigma\n",
    "\n",
    "pd.Series({'mu': mu_hat, \n",
    "           'SE': sigma,\n",
    "           '[0.025': lower,\n",
    "           '0.975]': upper})"
   ]
  },
  {
   "cell_type": "markdown",
   "id": "20795ca6",
   "metadata": {},
   "source": [
    "# (e) Based on this dataset, provide an estimate, μˆmed, for the median value of medv in the population."
   ]
  },
  {
   "cell_type": "code",
   "execution_count": 16,
   "id": "a6a52a98",
   "metadata": {},
   "outputs": [
    {
     "name": "stdout",
     "output_type": "stream",
     "text": [
      "median: 21.2\n"
     ]
    }
   ],
   "source": [
    "median_hat = np.median(raw_df['medv'])\n",
    "print('median: ' + str(median_hat))"
   ]
  },
  {
   "cell_type": "markdown",
   "id": "7320f5a2",
   "metadata": {},
   "source": [
    "# (f) We now would like to estimate the standard error of μˆmed. Unfortunately, there is no simple formula for computing the standard error of the median. Instead, estimate the standard error of the median using the bootstrap. Comment on your findings."
   ]
  },
  {
   "cell_type": "code",
   "execution_count": 20,
   "id": "1de96ae8",
   "metadata": {},
   "outputs": [
    {
     "name": "stdout",
     "output_type": "stream",
     "text": [
      "SE: 0.3757725301295981\n"
     ]
    }
   ],
   "source": [
    "import numpy as np\n",
    "\n",
    "# Compute standard error of the median with the bootstrap approach\n",
    "\n",
    "def median_boot(df, idx):\n",
    "    Z = np.array(df.loc[idx])\n",
    "    return np.median(Z)\n",
    "\n",
    "def boot_idx(n):\n",
    "    \"\"\"Return index for bootstrap sample of size n\n",
    "    e.g. generate array in range 0 to n, with replacement\"\"\"\n",
    "    return np.random.randint(low=0, high=n, size=n)\n",
    "\n",
    "def boot(fn, data_df, samples):\n",
    "    \"\"\"Perform bootstrap for B number of samples\"\"\"\n",
    "    results = []\n",
    "    for s in range(samples):\n",
    "        Z = fn(data_df, boot_idx(data_df.shape[0]))\n",
    "        results += [Z]\n",
    "    return np.array(results)\n",
    "\n",
    "# Assuming raw_df is defined elsewhere in your code\n",
    "B = 10000\n",
    "boot_obs   = boot(median_boot, raw_df['medv'], samples=B)\n",
    "SE_pred    = np.std(boot_obs) \n",
    "\n",
    "print('SE: ' + str(SE_pred))\n"
   ]
  },
  {
   "cell_type": "markdown",
   "id": "6d480472",
   "metadata": {},
   "source": [
    "> In the statistic theory, the concept of mean and median is similar. so we got similar SE."
   ]
  },
  {
   "cell_type": "markdown",
   "id": "a0db5207",
   "metadata": {},
   "source": [
    "# g) Based on this data set, provide an estimate for the tenth percentile of medv in Boston suburbs. Call this quantity μˆ0.1. (You can use the quantile() function.)"
   ]
  },
  {
   "cell_type": "code",
   "execution_count": 22,
   "id": "63e707b8",
   "metadata": {},
   "outputs": [
    {
     "name": "stdout",
     "output_type": "stream",
     "text": [
      "tenth_percentile: 12.75\n"
     ]
    }
   ],
   "source": [
    "tenth_percentile = np.percentile(raw_df['medv'], 10)\n",
    "print('tenth_percentile: ' + str(tenth_percentile))"
   ]
  },
  {
   "cell_type": "markdown",
   "id": "f4d13b87",
   "metadata": {},
   "source": [
    "# (h) Use the bootstrap to estimate the standard error of μˆ0.1. Comment on your findings."
   ]
  },
  {
   "cell_type": "code",
   "execution_count": 23,
   "id": "be711581",
   "metadata": {},
   "outputs": [
    {
     "name": "stdout",
     "output_type": "stream",
     "text": [
      "SE: 0.5036941675262877\n"
     ]
    }
   ],
   "source": [
    "# Compute standard error of the tenth percentile with the bootstrap approach\n",
    "\n",
    "def tenth_percentile(df, idx):\n",
    "    Z = np.array(df.loc[idx])\n",
    "    return np.percentile(Z, 10)\n",
    "\n",
    "def boot_idx(n):\n",
    "    \"\"\"Return index for bootstrap sample of size n\n",
    "    e.g. generate array in range 0 to n, with replacement\"\"\"\n",
    "    return np.random.randint(low=0, high=n, size=n)\n",
    "\n",
    "def boot(fn, data_df, samples):\n",
    "    \"\"\"Perform bootstrap for B number of samples\"\"\"\n",
    "    results = []\n",
    "    for s in range(samples):\n",
    "        Z = fn(data_df, boot_idx(data_df.shape[0]))\n",
    "        results += [Z]\n",
    "    return np.array(results)\n",
    "\n",
    "B = 10000\n",
    "boot_obs   = boot(tenth_percentile, raw_df['medv'], samples=B)\n",
    "SE_pred    = np.std(boot_obs) \n",
    "\n",
    "print('SE: ' + str(SE_pred))"
   ]
  },
  {
   "cell_type": "code",
   "execution_count": null,
   "id": "7ec2bf37",
   "metadata": {},
   "outputs": [],
   "source": []
  }
 ],
 "metadata": {
  "kernelspec": {
   "display_name": "Python 3 (ipykernel)",
   "language": "python",
   "name": "python3"
  },
  "language_info": {
   "codemirror_mode": {
    "name": "ipython",
    "version": 3
   },
   "file_extension": ".py",
   "mimetype": "text/x-python",
   "name": "python",
   "nbconvert_exporter": "python",
   "pygments_lexer": "ipython3",
   "version": "3.11.5"
  }
 },
 "nbformat": 4,
 "nbformat_minor": 5
}
